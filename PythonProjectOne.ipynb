{
 "cells": [
  {
   "cell_type": "code",
   "execution_count": 1,
   "id": "ba28e522",
   "metadata": {},
   "outputs": [],
   "source": [
    "#Dependencies \n",
    "import matplotlib.pyplot as plt\n",
    "import pandas as pd\n",
    "import numpy as np\n",
    "import scipy.stats as st\n",
    "import csv\n",
    "import os\n",
    "import requests\n",
    "import time\n",
    "from scipy.stats import linregress"
   ]
  },
  {
   "cell_type": "code",
   "execution_count": 2,
   "id": "409e5914",
   "metadata": {},
   "outputs": [],
   "source": [
    "#reading in data path\n",
    "spotify_path = \"C:/Users/ashuu/OneDrive/Documents/GitHub/Project-1/spotify_dataset.csv\"\n",
    "music_data = pd.read_csv(spotify_path)"
   ]
  },
  {
   "cell_type": "code",
   "execution_count": 3,
   "id": "0177e338",
   "metadata": {
    "scrolled": true
   },
   "outputs": [
    {
     "data": {
      "text/html": [
       "<div>\n",
       "<style scoped>\n",
       "    .dataframe tbody tr th:only-of-type {\n",
       "        vertical-align: middle;\n",
       "    }\n",
       "\n",
       "    .dataframe tbody tr th {\n",
       "        vertical-align: top;\n",
       "    }\n",
       "\n",
       "    .dataframe thead th {\n",
       "        text-align: right;\n",
       "    }\n",
       "</style>\n",
       "<table border=\"1\" class=\"dataframe\">\n",
       "  <thead>\n",
       "    <tr style=\"text-align: right;\">\n",
       "      <th></th>\n",
       "      <th>Index</th>\n",
       "      <th>Highest Charting Position</th>\n",
       "      <th>Number of Times Charted</th>\n",
       "      <th>Week of Highest Charting</th>\n",
       "      <th>Song Name</th>\n",
       "      <th>Streams</th>\n",
       "      <th>Artist</th>\n",
       "      <th>Artist Followers</th>\n",
       "      <th>Song ID</th>\n",
       "      <th>Genre</th>\n",
       "      <th>...</th>\n",
       "      <th>Danceability</th>\n",
       "      <th>Energy</th>\n",
       "      <th>Loudness</th>\n",
       "      <th>Speechiness</th>\n",
       "      <th>Acousticness</th>\n",
       "      <th>Liveness</th>\n",
       "      <th>Tempo</th>\n",
       "      <th>Duration (ms)</th>\n",
       "      <th>Valence</th>\n",
       "      <th>Chord</th>\n",
       "    </tr>\n",
       "  </thead>\n",
       "  <tbody>\n",
       "    <tr>\n",
       "      <th>81</th>\n",
       "      <td>82</td>\n",
       "      <td>6</td>\n",
       "      <td>21</td>\n",
       "      <td>2021-03-05--2021-03-12</td>\n",
       "      <td>Wants and Needs (feat. Lil Baby)</td>\n",
       "      <td>7,637,626</td>\n",
       "      <td>Drake</td>\n",
       "      <td>56308172</td>\n",
       "      <td>65OVbaJR5O1RmwOQx0875b</td>\n",
       "      <td>['canadian hip hop', 'canadian pop', 'hip hop'...</td>\n",
       "      <td>...</td>\n",
       "      <td>0.578</td>\n",
       "      <td>0.449</td>\n",
       "      <td>-6.349</td>\n",
       "      <td>0.286</td>\n",
       "      <td>0.0618</td>\n",
       "      <td>0.119</td>\n",
       "      <td>136.006</td>\n",
       "      <td>192956</td>\n",
       "      <td>0.1</td>\n",
       "      <td>C#/Db</td>\n",
       "    </tr>\n",
       "    <tr>\n",
       "      <th>290</th>\n",
       "      <td>291</td>\n",
       "      <td>2</td>\n",
       "      <td>44</td>\n",
       "      <td>2020-08-14--2020-08-21</td>\n",
       "      <td>Laugh Now Cry Later (feat. Lil Durk)</td>\n",
       "      <td>4,916,860</td>\n",
       "      <td>Drake</td>\n",
       "      <td>56308172</td>\n",
       "      <td>2SAqBLGA283SUiwJ3xOUVI</td>\n",
       "      <td>['canadian hip hop', 'canadian pop', 'hip hop'...</td>\n",
       "      <td>...</td>\n",
       "      <td>0.761</td>\n",
       "      <td>0.518</td>\n",
       "      <td>-8.871</td>\n",
       "      <td>0.134</td>\n",
       "      <td>0.244</td>\n",
       "      <td>0.107</td>\n",
       "      <td>133.976</td>\n",
       "      <td>261493</td>\n",
       "      <td>0.522</td>\n",
       "      <td>C</td>\n",
       "    </tr>\n",
       "    <tr>\n",
       "      <th>350</th>\n",
       "      <td>351</td>\n",
       "      <td>2</td>\n",
       "      <td>12</td>\n",
       "      <td>2021-03-05--2021-03-12</td>\n",
       "      <td>What’s Next</td>\n",
       "      <td>5,335,112</td>\n",
       "      <td>Drake</td>\n",
       "      <td>56308172</td>\n",
       "      <td>3aQem4jVGdhtg116TmJnHz</td>\n",
       "      <td>['canadian hip hop', 'canadian pop', 'hip hop'...</td>\n",
       "      <td>...</td>\n",
       "      <td>0.781</td>\n",
       "      <td>0.594</td>\n",
       "      <td>-6.959</td>\n",
       "      <td>0.0485</td>\n",
       "      <td>0.0136</td>\n",
       "      <td>0.162</td>\n",
       "      <td>129.895</td>\n",
       "      <td>178154</td>\n",
       "      <td>0.0628</td>\n",
       "      <td>C</td>\n",
       "    </tr>\n",
       "    <tr>\n",
       "      <th>472</th>\n",
       "      <td>473</td>\n",
       "      <td>17</td>\n",
       "      <td>4</td>\n",
       "      <td>2021-03-05--2021-03-12</td>\n",
       "      <td>Lemon Pepper Freestyle (feat. Rick Ross)</td>\n",
       "      <td>5,365,747</td>\n",
       "      <td>Drake</td>\n",
       "      <td>56327031</td>\n",
       "      <td>4FRW5Nza1Ym91BGV4nFWXI</td>\n",
       "      <td>['canadian hip hop', 'canadian pop', 'hip hop'...</td>\n",
       "      <td>...</td>\n",
       "      <td>0.77</td>\n",
       "      <td>0.637</td>\n",
       "      <td>-5.53</td>\n",
       "      <td>0.345</td>\n",
       "      <td>0.103</td>\n",
       "      <td>0.171</td>\n",
       "      <td>94.966</td>\n",
       "      <td>383037</td>\n",
       "      <td>0.431</td>\n",
       "      <td>C#/Db</td>\n",
       "    </tr>\n",
       "    <tr>\n",
       "      <th>549</th>\n",
       "      <td>550</td>\n",
       "      <td>2</td>\n",
       "      <td>46</td>\n",
       "      <td>2020-05-01--2020-05-08</td>\n",
       "      <td>Toosie Slide</td>\n",
       "      <td>4,966,878</td>\n",
       "      <td>Drake</td>\n",
       "      <td>56327031</td>\n",
       "      <td>127QTOFJsJQp5LbJbu3A1y</td>\n",
       "      <td>['canadian hip hop', 'canadian pop', 'hip hop'...</td>\n",
       "      <td>...</td>\n",
       "      <td>0.834</td>\n",
       "      <td>0.454</td>\n",
       "      <td>-9.75</td>\n",
       "      <td>0.201</td>\n",
       "      <td>0.321</td>\n",
       "      <td>0.114</td>\n",
       "      <td>81.618</td>\n",
       "      <td>247059</td>\n",
       "      <td>0.837</td>\n",
       "      <td>C#/Db</td>\n",
       "    </tr>\n",
       "    <tr>\n",
       "      <th>893</th>\n",
       "      <td>894</td>\n",
       "      <td>23</td>\n",
       "      <td>21</td>\n",
       "      <td>2020-05-01--2020-05-08</td>\n",
       "      <td>Chicago Freestyle (feat. Giveon)</td>\n",
       "      <td>4,799,038</td>\n",
       "      <td>Drake</td>\n",
       "      <td>56327031</td>\n",
       "      <td>4wVOKKEHUJxHCFFNUWDn0B</td>\n",
       "      <td>['canadian hip hop', 'canadian pop', 'hip hop'...</td>\n",
       "      <td>...</td>\n",
       "      <td>0.735</td>\n",
       "      <td>0.449</td>\n",
       "      <td>-7.507</td>\n",
       "      <td>0.347</td>\n",
       "      <td>0.629</td>\n",
       "      <td>0.113</td>\n",
       "      <td>122.947</td>\n",
       "      <td>220488</td>\n",
       "      <td>0.0397</td>\n",
       "      <td>A#/Bb</td>\n",
       "    </tr>\n",
       "    <tr>\n",
       "      <th>1073</th>\n",
       "      <td>1074</td>\n",
       "      <td>88</td>\n",
       "      <td>27</td>\n",
       "      <td>2020-01-03--2020-01-10</td>\n",
       "      <td>Money In The Grave (Drake ft. Rick Ross)</td>\n",
       "      <td>4,403,348</td>\n",
       "      <td>Drake</td>\n",
       "      <td>56327031</td>\n",
       "      <td>5ry2OE6R2zPQFDO85XkgRb</td>\n",
       "      <td>['canadian hip hop', 'canadian pop', 'hip hop'...</td>\n",
       "      <td>...</td>\n",
       "      <td>0.831</td>\n",
       "      <td>0.502</td>\n",
       "      <td>-4.045</td>\n",
       "      <td>0.046</td>\n",
       "      <td>0.101</td>\n",
       "      <td>0.122</td>\n",
       "      <td>100.541</td>\n",
       "      <td>205427</td>\n",
       "      <td>0.101</td>\n",
       "      <td>A#/Bb</td>\n",
       "    </tr>\n",
       "    <tr>\n",
       "      <th>1171</th>\n",
       "      <td>1172</td>\n",
       "      <td>12</td>\n",
       "      <td>3</td>\n",
       "      <td>2020-05-01--2020-05-08</td>\n",
       "      <td>Pain 1993 (with Playboi Carti)</td>\n",
       "      <td>6,085,143</td>\n",
       "      <td>Drake</td>\n",
       "      <td>56327031</td>\n",
       "      <td>6Kj17Afjo1OKJYpf5VzCeo</td>\n",
       "      <td>['canadian hip hop', 'canadian pop', 'hip hop'...</td>\n",
       "      <td>...</td>\n",
       "      <td>0.825</td>\n",
       "      <td>0.373</td>\n",
       "      <td>-5.532</td>\n",
       "      <td>0.108</td>\n",
       "      <td>0.163</td>\n",
       "      <td>0.368</td>\n",
       "      <td>77.271</td>\n",
       "      <td>149078</td>\n",
       "      <td>0.12</td>\n",
       "      <td>F</td>\n",
       "    </tr>\n",
       "    <tr>\n",
       "      <th>1188</th>\n",
       "      <td>1189</td>\n",
       "      <td>49</td>\n",
       "      <td>2</td>\n",
       "      <td>2020-05-01--2020-05-08</td>\n",
       "      <td>Demons (feat. Fivio Foreign &amp; Sosa Geek)</td>\n",
       "      <td>4,766,829</td>\n",
       "      <td>Drake</td>\n",
       "      <td>56327031</td>\n",
       "      <td>05aZ9sAU1YXndHv0FMi9iW</td>\n",
       "      <td>['canadian hip hop', 'canadian pop', 'hip hop'...</td>\n",
       "      <td>...</td>\n",
       "      <td>0.543</td>\n",
       "      <td>0.766</td>\n",
       "      <td>-3.387</td>\n",
       "      <td>0.343</td>\n",
       "      <td>0.423</td>\n",
       "      <td>0.155</td>\n",
       "      <td>106.869</td>\n",
       "      <td>204805</td>\n",
       "      <td>0.729</td>\n",
       "      <td>C</td>\n",
       "    </tr>\n",
       "    <tr>\n",
       "      <th>1197</th>\n",
       "      <td>1198</td>\n",
       "      <td>51</td>\n",
       "      <td>1</td>\n",
       "      <td>2020-05-01--2020-05-08</td>\n",
       "      <td>Time Flies</td>\n",
       "      <td>9,904,749</td>\n",
       "      <td>Drake</td>\n",
       "      <td>56327031</td>\n",
       "      <td>5H4mXWKcicuLKDn4Jy0sK7</td>\n",
       "      <td>['canadian hip hop', 'canadian pop', 'hip hop'...</td>\n",
       "      <td>...</td>\n",
       "      <td>0.864</td>\n",
       "      <td>0.477</td>\n",
       "      <td>-5.786</td>\n",
       "      <td>0.224</td>\n",
       "      <td>0.201</td>\n",
       "      <td>0.182</td>\n",
       "      <td>86.46</td>\n",
       "      <td>192932</td>\n",
       "      <td>0.5</td>\n",
       "      <td>A#/Bb</td>\n",
       "    </tr>\n",
       "    <tr>\n",
       "      <th>1198</th>\n",
       "      <td>1199</td>\n",
       "      <td>53</td>\n",
       "      <td>1</td>\n",
       "      <td>2020-05-01--2020-05-08</td>\n",
       "      <td>Desires (with Future)</td>\n",
       "      <td>9,628,215</td>\n",
       "      <td>Drake</td>\n",
       "      <td>56327031</td>\n",
       "      <td>7eYAHC0RbBF9eaqWzT34Aq</td>\n",
       "      <td>['canadian hip hop', 'canadian pop', 'hip hop'...</td>\n",
       "      <td>...</td>\n",
       "      <td>0.812</td>\n",
       "      <td>0.506</td>\n",
       "      <td>-7.706</td>\n",
       "      <td>0.116</td>\n",
       "      <td>0.281</td>\n",
       "      <td>0.325</td>\n",
       "      <td>145.074</td>\n",
       "      <td>237946</td>\n",
       "      <td>0.554</td>\n",
       "      <td>F</td>\n",
       "    </tr>\n",
       "    <tr>\n",
       "      <th>1199</th>\n",
       "      <td>1200</td>\n",
       "      <td>55</td>\n",
       "      <td>1</td>\n",
       "      <td>2020-05-01--2020-05-08</td>\n",
       "      <td>Not You Too (feat. Chris Brown)</td>\n",
       "      <td>9,284,383</td>\n",
       "      <td>Drake</td>\n",
       "      <td>56327031</td>\n",
       "      <td>3Q4gttWQ6hxqWOa3tHoTNi</td>\n",
       "      <td>['canadian hip hop', 'canadian pop', 'hip hop'...</td>\n",
       "      <td>...</td>\n",
       "      <td>0.458</td>\n",
       "      <td>0.452</td>\n",
       "      <td>-9.299</td>\n",
       "      <td>0.047</td>\n",
       "      <td>0.342</td>\n",
       "      <td>0.0703</td>\n",
       "      <td>86.318</td>\n",
       "      <td>269680</td>\n",
       "      <td>0.316</td>\n",
       "      <td>A</td>\n",
       "    </tr>\n",
       "    <tr>\n",
       "      <th>1200</th>\n",
       "      <td>1201</td>\n",
       "      <td>67</td>\n",
       "      <td>1</td>\n",
       "      <td>2020-05-01--2020-05-08</td>\n",
       "      <td>Landed</td>\n",
       "      <td>8,355,036</td>\n",
       "      <td>Drake</td>\n",
       "      <td>56327031</td>\n",
       "      <td>3KixNgUEaDtrKJVzdqjU5q</td>\n",
       "      <td>['canadian hip hop', 'canadian pop', 'hip hop'...</td>\n",
       "      <td>...</td>\n",
       "      <td>0.881</td>\n",
       "      <td>0.636</td>\n",
       "      <td>-4.629</td>\n",
       "      <td>0.287</td>\n",
       "      <td>0.00606</td>\n",
       "      <td>0.111</td>\n",
       "      <td>163.949</td>\n",
       "      <td>152195</td>\n",
       "      <td>0.715</td>\n",
       "      <td>G</td>\n",
       "    </tr>\n",
       "    <tr>\n",
       "      <th>1201</th>\n",
       "      <td>1202</td>\n",
       "      <td>68</td>\n",
       "      <td>1</td>\n",
       "      <td>2020-05-01--2020-05-08</td>\n",
       "      <td>When To Say When</td>\n",
       "      <td>8,304,928</td>\n",
       "      <td>Drake</td>\n",
       "      <td>56327031</td>\n",
       "      <td>5TCBWmEBrin7etRa4Lswr1</td>\n",
       "      <td>['canadian hip hop', 'canadian pop', 'hip hop'...</td>\n",
       "      <td>...</td>\n",
       "      <td>0.41</td>\n",
       "      <td>0.82</td>\n",
       "      <td>-6.808</td>\n",
       "      <td>0.533</td>\n",
       "      <td>0.252</td>\n",
       "      <td>0.538</td>\n",
       "      <td>170.718</td>\n",
       "      <td>223124</td>\n",
       "      <td>0.526</td>\n",
       "      <td>C#/Db</td>\n",
       "    </tr>\n",
       "    <tr>\n",
       "      <th>1202</th>\n",
       "      <td>1203</td>\n",
       "      <td>70</td>\n",
       "      <td>1</td>\n",
       "      <td>2020-05-01--2020-05-08</td>\n",
       "      <td>Deep Pockets</td>\n",
       "      <td>8,285,754</td>\n",
       "      <td>Drake</td>\n",
       "      <td>56327031</td>\n",
       "      <td>3IvMYBE7A3c7to1aEcfFJk</td>\n",
       "      <td>['canadian hip hop', 'canadian pop', 'hip hop'...</td>\n",
       "      <td>...</td>\n",
       "      <td>0.473</td>\n",
       "      <td>0.824</td>\n",
       "      <td>-3.68</td>\n",
       "      <td>0.163</td>\n",
       "      <td>0.482</td>\n",
       "      <td>0.605</td>\n",
       "      <td>77.888</td>\n",
       "      <td>222929</td>\n",
       "      <td>0.374</td>\n",
       "      <td>G</td>\n",
       "    </tr>\n",
       "    <tr>\n",
       "      <th>1203</th>\n",
       "      <td>1204</td>\n",
       "      <td>73</td>\n",
       "      <td>1</td>\n",
       "      <td>2020-05-01--2020-05-08</td>\n",
       "      <td>War</td>\n",
       "      <td>7,821,869</td>\n",
       "      <td>Drake</td>\n",
       "      <td>56327031</td>\n",
       "      <td>1I55Ea0zVoSKs6MqW7DQ3i</td>\n",
       "      <td>['canadian hip hop', 'canadian pop', 'hip hop'...</td>\n",
       "      <td>...</td>\n",
       "      <td>0.749</td>\n",
       "      <td>0.792</td>\n",
       "      <td>-4.151</td>\n",
       "      <td>0.0826</td>\n",
       "      <td>0.292</td>\n",
       "      <td>0.109</td>\n",
       "      <td>144.064</td>\n",
       "      <td>180000</td>\n",
       "      <td>0.239</td>\n",
       "      <td>A#/Bb</td>\n",
       "    </tr>\n",
       "    <tr>\n",
       "      <th>1204</th>\n",
       "      <td>1205</td>\n",
       "      <td>84</td>\n",
       "      <td>1</td>\n",
       "      <td>2020-05-01--2020-05-08</td>\n",
       "      <td>From Florida With Love</td>\n",
       "      <td>7,216,610</td>\n",
       "      <td>Drake</td>\n",
       "      <td>56327031</td>\n",
       "      <td>0YkUwXxnTkeJBvt5upeEtP</td>\n",
       "      <td>['canadian hip hop', 'canadian pop', 'hip hop'...</td>\n",
       "      <td>...</td>\n",
       "      <td>0.787</td>\n",
       "      <td>0.477</td>\n",
       "      <td>-7.837</td>\n",
       "      <td>0.199</td>\n",
       "      <td>0.768</td>\n",
       "      <td>0.104</td>\n",
       "      <td>80.506</td>\n",
       "      <td>234783</td>\n",
       "      <td>0.476</td>\n",
       "      <td>F#/Gb</td>\n",
       "    </tr>\n",
       "    <tr>\n",
       "      <th>1205</th>\n",
       "      <td>1206</td>\n",
       "      <td>89</td>\n",
       "      <td>1</td>\n",
       "      <td>2020-05-01--2020-05-08</td>\n",
       "      <td>Losses</td>\n",
       "      <td>6,894,756</td>\n",
       "      <td>Drake</td>\n",
       "      <td>56327031</td>\n",
       "      <td>6fLVTVaHWaEfVKfEgbkf4D</td>\n",
       "      <td>['canadian hip hop', 'canadian pop', 'hip hop'...</td>\n",
       "      <td>...</td>\n",
       "      <td>0.551</td>\n",
       "      <td>0.57</td>\n",
       "      <td>-7.385</td>\n",
       "      <td>0.351</td>\n",
       "      <td>0.28</td>\n",
       "      <td>0.424</td>\n",
       "      <td>85.687</td>\n",
       "      <td>271184</td>\n",
       "      <td>0.505</td>\n",
       "      <td>C#/Db</td>\n",
       "    </tr>\n",
       "    <tr>\n",
       "      <th>1212</th>\n",
       "      <td>1213</td>\n",
       "      <td>130</td>\n",
       "      <td>11</td>\n",
       "      <td>2019-12-27--2020-01-03</td>\n",
       "      <td>God's Plan</td>\n",
       "      <td>4,565,400</td>\n",
       "      <td>Drake</td>\n",
       "      <td>56327031</td>\n",
       "      <td>6DCZcSspjsKoFjzjrWoCdn</td>\n",
       "      <td>['canadian hip hop', 'canadian pop', 'hip hop'...</td>\n",
       "      <td>...</td>\n",
       "      <td>0.754</td>\n",
       "      <td>0.449</td>\n",
       "      <td>-9.211</td>\n",
       "      <td>0.109</td>\n",
       "      <td>0.0332</td>\n",
       "      <td>0.552</td>\n",
       "      <td>77.169</td>\n",
       "      <td>198973</td>\n",
       "      <td>0.357</td>\n",
       "      <td>G</td>\n",
       "    </tr>\n",
       "  </tbody>\n",
       "</table>\n",
       "<p>19 rows × 23 columns</p>\n",
       "</div>"
      ],
      "text/plain": [
       "      Index  Highest Charting Position  Number of Times Charted  \\\n",
       "81       82                          6                       21   \n",
       "290     291                          2                       44   \n",
       "350     351                          2                       12   \n",
       "472     473                         17                        4   \n",
       "549     550                          2                       46   \n",
       "893     894                         23                       21   \n",
       "1073   1074                         88                       27   \n",
       "1171   1172                         12                        3   \n",
       "1188   1189                         49                        2   \n",
       "1197   1198                         51                        1   \n",
       "1198   1199                         53                        1   \n",
       "1199   1200                         55                        1   \n",
       "1200   1201                         67                        1   \n",
       "1201   1202                         68                        1   \n",
       "1202   1203                         70                        1   \n",
       "1203   1204                         73                        1   \n",
       "1204   1205                         84                        1   \n",
       "1205   1206                         89                        1   \n",
       "1212   1213                        130                       11   \n",
       "\n",
       "     Week of Highest Charting                                 Song Name  \\\n",
       "81     2021-03-05--2021-03-12          Wants and Needs (feat. Lil Baby)   \n",
       "290    2020-08-14--2020-08-21      Laugh Now Cry Later (feat. Lil Durk)   \n",
       "350    2021-03-05--2021-03-12                               What’s Next   \n",
       "472    2021-03-05--2021-03-12  Lemon Pepper Freestyle (feat. Rick Ross)   \n",
       "549    2020-05-01--2020-05-08                              Toosie Slide   \n",
       "893    2020-05-01--2020-05-08          Chicago Freestyle (feat. Giveon)   \n",
       "1073   2020-01-03--2020-01-10  Money In The Grave (Drake ft. Rick Ross)   \n",
       "1171   2020-05-01--2020-05-08            Pain 1993 (with Playboi Carti)   \n",
       "1188   2020-05-01--2020-05-08  Demons (feat. Fivio Foreign & Sosa Geek)   \n",
       "1197   2020-05-01--2020-05-08                                Time Flies   \n",
       "1198   2020-05-01--2020-05-08                     Desires (with Future)   \n",
       "1199   2020-05-01--2020-05-08           Not You Too (feat. Chris Brown)   \n",
       "1200   2020-05-01--2020-05-08                                    Landed   \n",
       "1201   2020-05-01--2020-05-08                          When To Say When   \n",
       "1202   2020-05-01--2020-05-08                              Deep Pockets   \n",
       "1203   2020-05-01--2020-05-08                                       War   \n",
       "1204   2020-05-01--2020-05-08                    From Florida With Love   \n",
       "1205   2020-05-01--2020-05-08                                    Losses   \n",
       "1212   2019-12-27--2020-01-03                                God's Plan   \n",
       "\n",
       "        Streams Artist Artist Followers                 Song ID  \\\n",
       "81    7,637,626  Drake         56308172  65OVbaJR5O1RmwOQx0875b   \n",
       "290   4,916,860  Drake         56308172  2SAqBLGA283SUiwJ3xOUVI   \n",
       "350   5,335,112  Drake         56308172  3aQem4jVGdhtg116TmJnHz   \n",
       "472   5,365,747  Drake         56327031  4FRW5Nza1Ym91BGV4nFWXI   \n",
       "549   4,966,878  Drake         56327031  127QTOFJsJQp5LbJbu3A1y   \n",
       "893   4,799,038  Drake         56327031  4wVOKKEHUJxHCFFNUWDn0B   \n",
       "1073  4,403,348  Drake         56327031  5ry2OE6R2zPQFDO85XkgRb   \n",
       "1171  6,085,143  Drake         56327031  6Kj17Afjo1OKJYpf5VzCeo   \n",
       "1188  4,766,829  Drake         56327031  05aZ9sAU1YXndHv0FMi9iW   \n",
       "1197  9,904,749  Drake         56327031  5H4mXWKcicuLKDn4Jy0sK7   \n",
       "1198  9,628,215  Drake         56327031  7eYAHC0RbBF9eaqWzT34Aq   \n",
       "1199  9,284,383  Drake         56327031  3Q4gttWQ6hxqWOa3tHoTNi   \n",
       "1200  8,355,036  Drake         56327031  3KixNgUEaDtrKJVzdqjU5q   \n",
       "1201  8,304,928  Drake         56327031  5TCBWmEBrin7etRa4Lswr1   \n",
       "1202  8,285,754  Drake         56327031  3IvMYBE7A3c7to1aEcfFJk   \n",
       "1203  7,821,869  Drake         56327031  1I55Ea0zVoSKs6MqW7DQ3i   \n",
       "1204  7,216,610  Drake         56327031  0YkUwXxnTkeJBvt5upeEtP   \n",
       "1205  6,894,756  Drake         56327031  6fLVTVaHWaEfVKfEgbkf4D   \n",
       "1212  4,565,400  Drake         56327031  6DCZcSspjsKoFjzjrWoCdn   \n",
       "\n",
       "                                                  Genre  ... Danceability  \\\n",
       "81    ['canadian hip hop', 'canadian pop', 'hip hop'...  ...        0.578   \n",
       "290   ['canadian hip hop', 'canadian pop', 'hip hop'...  ...        0.761   \n",
       "350   ['canadian hip hop', 'canadian pop', 'hip hop'...  ...        0.781   \n",
       "472   ['canadian hip hop', 'canadian pop', 'hip hop'...  ...         0.77   \n",
       "549   ['canadian hip hop', 'canadian pop', 'hip hop'...  ...        0.834   \n",
       "893   ['canadian hip hop', 'canadian pop', 'hip hop'...  ...        0.735   \n",
       "1073  ['canadian hip hop', 'canadian pop', 'hip hop'...  ...        0.831   \n",
       "1171  ['canadian hip hop', 'canadian pop', 'hip hop'...  ...        0.825   \n",
       "1188  ['canadian hip hop', 'canadian pop', 'hip hop'...  ...        0.543   \n",
       "1197  ['canadian hip hop', 'canadian pop', 'hip hop'...  ...        0.864   \n",
       "1198  ['canadian hip hop', 'canadian pop', 'hip hop'...  ...        0.812   \n",
       "1199  ['canadian hip hop', 'canadian pop', 'hip hop'...  ...        0.458   \n",
       "1200  ['canadian hip hop', 'canadian pop', 'hip hop'...  ...        0.881   \n",
       "1201  ['canadian hip hop', 'canadian pop', 'hip hop'...  ...         0.41   \n",
       "1202  ['canadian hip hop', 'canadian pop', 'hip hop'...  ...        0.473   \n",
       "1203  ['canadian hip hop', 'canadian pop', 'hip hop'...  ...        0.749   \n",
       "1204  ['canadian hip hop', 'canadian pop', 'hip hop'...  ...        0.787   \n",
       "1205  ['canadian hip hop', 'canadian pop', 'hip hop'...  ...        0.551   \n",
       "1212  ['canadian hip hop', 'canadian pop', 'hip hop'...  ...        0.754   \n",
       "\n",
       "     Energy Loudness Speechiness Acousticness Liveness    Tempo Duration (ms)  \\\n",
       "81    0.449   -6.349       0.286       0.0618    0.119  136.006        192956   \n",
       "290   0.518   -8.871       0.134        0.244    0.107  133.976        261493   \n",
       "350   0.594   -6.959      0.0485       0.0136    0.162  129.895        178154   \n",
       "472   0.637    -5.53       0.345        0.103    0.171   94.966        383037   \n",
       "549   0.454    -9.75       0.201        0.321    0.114   81.618        247059   \n",
       "893   0.449   -7.507       0.347        0.629    0.113  122.947        220488   \n",
       "1073  0.502   -4.045       0.046        0.101    0.122  100.541        205427   \n",
       "1171  0.373   -5.532       0.108        0.163    0.368   77.271        149078   \n",
       "1188  0.766   -3.387       0.343        0.423    0.155  106.869        204805   \n",
       "1197  0.477   -5.786       0.224        0.201    0.182    86.46        192932   \n",
       "1198  0.506   -7.706       0.116        0.281    0.325  145.074        237946   \n",
       "1199  0.452   -9.299       0.047        0.342   0.0703   86.318        269680   \n",
       "1200  0.636   -4.629       0.287      0.00606    0.111  163.949        152195   \n",
       "1201   0.82   -6.808       0.533        0.252    0.538  170.718        223124   \n",
       "1202  0.824    -3.68       0.163        0.482    0.605   77.888        222929   \n",
       "1203  0.792   -4.151      0.0826        0.292    0.109  144.064        180000   \n",
       "1204  0.477   -7.837       0.199        0.768    0.104   80.506        234783   \n",
       "1205   0.57   -7.385       0.351         0.28    0.424   85.687        271184   \n",
       "1212  0.449   -9.211       0.109       0.0332    0.552   77.169        198973   \n",
       "\n",
       "     Valence  Chord  \n",
       "81       0.1  C#/Db  \n",
       "290    0.522      C  \n",
       "350   0.0628      C  \n",
       "472    0.431  C#/Db  \n",
       "549    0.837  C#/Db  \n",
       "893   0.0397  A#/Bb  \n",
       "1073   0.101  A#/Bb  \n",
       "1171    0.12      F  \n",
       "1188   0.729      C  \n",
       "1197     0.5  A#/Bb  \n",
       "1198   0.554      F  \n",
       "1199   0.316      A  \n",
       "1200   0.715      G  \n",
       "1201   0.526  C#/Db  \n",
       "1202   0.374      G  \n",
       "1203   0.239  A#/Bb  \n",
       "1204   0.476  F#/Gb  \n",
       "1205   0.505  C#/Db  \n",
       "1212   0.357      G  \n",
       "\n",
       "[19 rows x 23 columns]"
      ]
     },
     "execution_count": 3,
     "metadata": {},
     "output_type": "execute_result"
    }
   ],
   "source": [
    "#creating dataframe based on my specific artist, Drake\n",
    "artist_count = (music_data[music_data[\"Artist\"] == \"Drake\"]).copy()\n",
    "artist_count"
   ]
  },
  {
   "cell_type": "code",
   "execution_count": 4,
   "id": "81982bd2",
   "metadata": {},
   "outputs": [
    {
     "data": {
      "text/plain": [
       "'56327031'"
      ]
     },
     "execution_count": 4,
     "metadata": {},
     "output_type": "execute_result"
    }
   ],
   "source": [
    "# Drake's Total Followers \n",
    "artist_followers = artist_count[\"Artist Followers\"].max()\n",
    "artist_followers"
   ]
  },
  {
   "cell_type": "code",
   "execution_count": 5,
   "id": "49c70574",
   "metadata": {},
   "outputs": [
    {
     "data": {
      "text/plain": [
       "array(['7,637,626', '4,916,860', '5,335,112', '5,365,747', '4,966,878',\n",
       "       '4,799,038', '4,403,348', '6,085,143', '4,766,829', '9,904,749',\n",
       "       '9,628,215', '9,284,383', '8,355,036', '8,304,928', '8,285,754',\n",
       "       '7,821,869', '7,216,610', '6,894,756', '4,565,400'], dtype=object)"
      ]
     },
     "execution_count": 5,
     "metadata": {},
     "output_type": "execute_result"
    }
   ],
   "source": [
    "# Drake's streams for each song\n",
    "artist_streams = artist_count[\"Streams\"].unique()\n",
    "artist_streams "
   ]
  },
  {
   "cell_type": "code",
   "execution_count": 6,
   "id": "b882fe54",
   "metadata": {},
   "outputs": [
    {
     "data": {
      "text/plain": [
       "19"
      ]
     },
     "execution_count": 6,
     "metadata": {},
     "output_type": "execute_result"
    }
   ],
   "source": [
    "#Drake's total number of songs\n",
    "song_count = artist_count[\"Song ID\"].count()\n",
    "song_count"
   ]
  },
  {
   "cell_type": "code",
   "execution_count": 7,
   "id": "9ea2e1a5",
   "metadata": {},
   "outputs": [
    {
     "data": {
      "text/plain": [
       "'9,904,749'"
      ]
     },
     "execution_count": 7,
     "metadata": {},
     "output_type": "execute_result"
    }
   ],
   "source": [
    "#Drake's largest streaming number\n",
    "artist_maxstreams = artist_count[\"Streams\"].max()\n",
    "artist_maxstreams "
   ]
  },
  {
   "cell_type": "code",
   "execution_count": 8,
   "id": "3d2f13e0",
   "metadata": {},
   "outputs": [
    {
     "name": "stdout",
     "output_type": "stream",
     "text": [
      "Drake has not topped the chart\n"
     ]
    }
   ],
   "source": [
    "#Finding out whether Drake has topped the charts\n",
    "if len(artist_count.loc[artist_count[\"Highest Charting Position\"] == 1]) > 0:\n",
    "    print(\"Drake has topped the chart\")\n",
    "else:\n",
    "    print(\"Drake has not topped the chart\")"
   ]
  },
  {
   "cell_type": "code",
   "execution_count": 9,
   "id": "4b0c567d",
   "metadata": {},
   "outputs": [
    {
     "data": {
      "text/plain": [
       "Index                         int64\n",
       "Highest Charting Position     int64\n",
       "Number of Times Charted       int64\n",
       "Week of Highest Charting     object\n",
       "Song Name                    object\n",
       "Streams                      object\n",
       "Artist                       object\n",
       "Artist Followers             object\n",
       "Song ID                      object\n",
       "Genre                        object\n",
       "Release Date                 object\n",
       "Weeks Charted                object\n",
       "Popularity                   object\n",
       "Danceability                 object\n",
       "Energy                       object\n",
       "Loudness                     object\n",
       "Speechiness                  object\n",
       "Acousticness                 object\n",
       "Liveness                     object\n",
       "Tempo                        object\n",
       "Duration (ms)                object\n",
       "Valence                      object\n",
       "Chord                        object\n",
       "dtype: object"
      ]
     },
     "execution_count": 9,
     "metadata": {},
     "output_type": "execute_result"
    }
   ],
   "source": [
    "#Finding types of each of the columns in the dataframe\n",
    "result = artist_count.dtypes\n",
    "result"
   ]
  },
  {
   "cell_type": "code",
   "execution_count": 10,
   "id": "7060d540",
   "metadata": {},
   "outputs": [],
   "source": [
    "#artist_count['Streams'] = pd.to_numeric(artist_count['Streams'])\n",
    "#Converting column to int\n",
    "artist_count[\"Streams\"] = artist_count[\"Streams\"].str.replace(\",\",\"\").astype(int)\n",
    "#doja_cat_df[“Streams”] = doja_cat_df[“Streams”].str.replace(“,”,“”).astype(int)\n"
   ]
  },
  {
   "cell_type": "code",
   "execution_count": 13,
   "id": "3fd6ae7a",
   "metadata": {},
   "outputs": [
    {
     "data": {
      "text/plain": [
       "128538281"
      ]
     },
     "execution_count": 13,
     "metadata": {},
     "output_type": "execute_result"
    }
   ],
   "source": [
    "#Drake's total streams\n",
    "artist_totalstreams = artist_count[\"Streams\"].sum()\n",
    "artist_totalstreams"
   ]
  },
  {
   "cell_type": "code",
   "execution_count": 14,
   "id": "443c9b4a",
   "metadata": {},
   "outputs": [
    {
     "data": {
      "image/png": "[encoded data removed]",
      "text/plain": [
       "<Figure size 432x288 with 1 Axes>"
      ]
     },
     "metadata": {
      "needs_background": "light"
     },
     "output_type": "display_data"
    }
   ],
   "source": [
    "#Bar graph visualizing number of streams per song for Drake\n",
    "bar_graph = artist_count.groupby('Song Name')['Streams'].sum()\n",
    "bar_graph.plot(kind=\"bar\", x=\"Song Name\", y=\"Streams\")\n",
    "plt.title(\"Drake's stream numbers per song\")\n",
    "plt.xlabel(\"Song Name\")\n",
    "plt.ylabel(\"Streams (in ten millions)\")\n",
    "plt.xticks(rotation = 90)\n",
    "plt.savefig(\"Drake_bargraph.png\")\n",
    "plt.show()"
   ]
  },
  {
   "cell_type": "code",
   "execution_count": 15,
   "id": "579865ad",
   "metadata": {},
   "outputs": [],
   "source": [
    "#Creating similar dataframes for the other chosen artists\n",
    "weeknd_count = (music_data[music_data[\"Artist\"] == \"The Weeknd\"]).copy()\n",
    "sheeran_count = (music_data[music_data[\"Artist\"] == \"Ed Sheeran\"]).copy()\n",
    "doja_count = (music_data[music_data[\"Artist\"] == \"Doja Cat\"]).copy()"
   ]
  },
  {
   "cell_type": "code",
   "execution_count": 16,
   "id": "35a0090b",
   "metadata": {},
   "outputs": [
    {
     "name": "stdout",
     "output_type": "stream",
     "text": [
      "35340069\n",
      "83337783\n",
      "8671649\n"
     ]
    }
   ],
   "source": [
    "#Follower count for each artist\n",
    "weeknd_followers = weeknd_count[\"Artist Followers\"].max()\n",
    "sheeran_followers = sheeran_count[\"Artist Followers\"].max()\n",
    "doja_followers = doja_count[\"Artist Followers\"].max()\n",
    "\n",
    "print(weeknd_followers)\n",
    "print(sheeran_followers)\n",
    "print(doja_followers)"
   ]
  },
  {
   "cell_type": "code",
   "execution_count": 17,
   "id": "7166e6b3",
   "metadata": {},
   "outputs": [],
   "source": [
    "#Converting column data to int for each dataframe\n",
    "weeknd_count[\"Streams\"] = weeknd_count[\"Streams\"].str.replace(\",\",\"\").astype(int)\n",
    "sheeran_count[\"Streams\"] = sheeran_count[\"Streams\"].str.replace(\",\",\"\").astype(int)\n",
    "doja_count[\"Streams\"] = doja_count[\"Streams\"].str.replace(\",\",\"\").astype(int)"
   ]
  },
  {
   "cell_type": "code",
   "execution_count": 30,
   "id": "a357dc04",
   "metadata": {},
   "outputs": [
    {
     "name": "stdout",
     "output_type": "stream",
     "text": [
      "149088439\n",
      "80580568\n"
     ]
    }
   ],
   "source": [
    "#Total number of streams per artist\n",
    "weeknd_maxstreams = weeknd_count[\"Streams\"].sum()\n",
    "sheeran_maxstreams = sheeran_count[\"Streams\"].sum()\n",
    "doja_maxstreams = doja_count[\"Streams\"].sum()\n",
    "\n",
    "print(weeknd_maxstreams)\n",
    "print(sheeran_maxstreams)"
   ]
  },
  {
   "cell_type": "code",
   "execution_count": 19,
   "id": "5c08f5c6",
   "metadata": {},
   "outputs": [
    {
     "data": {
      "image/png": "[encoded data removed]",
      "text/plain": [
       "<Figure size 432x288 with 1 Axes>"
      ]
     },
     "metadata": {},
     "output_type": "display_data"
    }
   ],
   "source": [
    "#Pie chart visualizing total number of streams per artist\n",
    "df = pd.DataFrame([doja_maxstreams, sheeran_maxstreams, artist_totalstreams, weeknd_maxstreams])\n",
    "artists = [\"Doja Cat\", \"Ed Sheeran\", \"Drake\", \"The Weeknd\"] \n",
    "streams = [doja_maxstreams, sheeran_maxstreams, artist_totalstreams, weeknd_maxstreams]\n",
    "labels=artists\n",
    "plt.pie(streams, labels=artists, autopct=\"%1.1f%%\")\n",
    "plt.axis(\"equal\")\n",
    "plt.title(\"Total Number of Streams\")\n",
    "plt.savefig(\"totalpiechart.png\")\n",
    "plt.show()"
   ]
  },
  {
   "cell_type": "code",
   "execution_count": 20,
   "id": "8be45f65",
   "metadata": {},
   "outputs": [
    {
     "data": {
      "image/png": "[encoded data removed]",
      "text/plain": [
       "<Figure size 432x288 with 1 Axes>"
      ]
     },
     "metadata": {
      "needs_background": "light"
     },
     "output_type": "display_data"
    }
   ],
   "source": [
    "#Horizontal bar chart visualizing total number of streams per artist\n",
    "plt.barh(artists, streams, color=(\"Blue\", \"Orange\", \"Green\", \"Red\"))\n",
    "plt.title(\"Total number of streams per artist\")\n",
    "plt.ylabel(\"Artists\")\n",
    "plt.xlabel(\"Number of streams (in hundred millions)\")\n",
    "plt.savefig(\"totalhorizbarchart.png\")\n",
    "plt.show()"
   ]
  },
  {
   "cell_type": "code",
   "execution_count": 21,
   "id": "cc61a74b",
   "metadata": {},
   "outputs": [
    {
     "name": "stdout",
     "output_type": "stream",
     "text": [
      "269\n",
      "200\n",
      "314\n",
      "185\n"
     ]
    }
   ],
   "source": [
    "weeknd_charted = weeknd_count[\"Number of Times Charted\"].sum()\n",
    "drake_charted = artist_count[\"Number of Times Charted\"].sum()\n",
    "sheeran_charted = sheeran_count[\"Number of Times Charted\"].sum()\n",
    "doja_charted = doja_count[\"Number of Times Charted\"].sum()\n",
    "\n",
    "print(weeknd_charted)\n",
    "print(drake_charted)\n",
    "print(sheeran_charted)\n",
    "print(doja_charted)\n"
   ]
  },
  {
   "cell_type": "code",
   "execution_count": 22,
   "id": "d3fd77d2",
   "metadata": {},
   "outputs": [
    {
     "data": {
      "image/png": "[encoded data removed]",
      "text/plain": [
       "<Figure size 432x288 with 1 Axes>"
      ]
     },
     "metadata": {
      "needs_background": "light"
     },
     "output_type": "display_data"
    }
   ],
   "source": [
    "charted = [doja_charted, sheeran_charted, drake_charted, weeknd_charted]\n",
    "#bar_graph.plot(kind=\"bar\", x=artists, y=charted)\n",
    "#plt.title(\"Total number of times charted\")\n",
    "#plt.ylabel(\"Number of times charted\")\n",
    "#plt.xlabel(\"Artists\")\n",
    "#plt.show()\n",
    "\n",
    "plt.barh(artists, charted, color=(\"Blue\", \"Orange\", \"Green\", \"Red\"))\n",
    "plt.title(\"Total number of times charted\")\n",
    "plt.ylabel(\"Artists\")\n",
    "plt.xlabel(\"Number of times charted\")\n",
    "plt.savefig(\"totalchartedchart.png\")\n",
    "plt.show()"
   ]
  },
  {
   "cell_type": "code",
   "execution_count": 28,
   "id": "74d2477d",
   "metadata": {},
   "outputs": [
    {
     "data": {
      "image/png": "[encoded data removed]",
      "text/plain": [
       "<Figure size 432x288 with 1 Axes>"
      ]
     },
     "metadata": {},
     "output_type": "display_data"
    }
   ],
   "source": [
    "\n",
    "labels=artists\n",
    "plt.pie(charted, labels=artists, autopct=\"%1.1f%%\")\n",
    "plt.axis(\"equal\")\n",
    "plt.title(\"Total Number of Times Charted\")\n",
    "plt.savefig(\"totalpiecharted.png\")\n",
    "plt.show()"
   ]
  },
  {
   "cell_type": "code",
   "execution_count": 25,
   "id": "15693bae",
   "metadata": {},
   "outputs": [
    {
     "data": {
      "image/png": "[encoded data removed]",
      "text/plain": [
       "<Figure size 432x288 with 1 Axes>"
      ]
     },
     "metadata": {
      "needs_background": "light"
     },
     "output_type": "display_data"
    }
   ],
   "source": [
    "data={'Artists':['Doja Cat', 'Ed Sheeran', 'Drake',\n",
    "              'The Weeknd'],\n",
    "      'Followers':[8671649, 83337783, 56327031, 35340069]}\n",
    "followers_df = pd.DataFrame(data = data);\n",
    "followers_df.plot.scatter(x = 'Artists', y = 'Followers', s = 100, c=(\"Blue\", \"Orange\", \"Green\", \"Red\"));\n",
    "plt.title(\"Follower Comparison\")\n",
    "plt.savefig(\"maxfollowerschart.png\")\n",
    "plt.show()"
   ]
  },
  {
   "cell_type": "code",
   "execution_count": null,
   "id": "8c3d8e27",
   "metadata": {},
   "outputs": [],
   "source": []
  },
  {
   "cell_type": "code",
   "execution_count": null,
   "id": "18af5b11",
   "metadata": {},
   "outputs": [],
   "source": []
  }
 ],
 "metadata": {
  "kernelspec": {
   "display_name": "Python 3 (ipykernel)",
   "language": "python",
   "name": "python3"
  },
  "language_info": {
   "codemirror_mode": {
    "name": "ipython",
    "version": 3
   },
   "file_extension": ".py",
   "mimetype": "text/x-python",
   "name": "python",
   "nbconvert_exporter": "python",
   "pygments_lexer": "ipython3",
   "version": "3.7.7"
  }
 },
 "nbformat": 4,
 "nbformat_minor": 5
}
